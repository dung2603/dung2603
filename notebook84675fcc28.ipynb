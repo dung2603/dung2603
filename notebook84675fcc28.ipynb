{
 "cells": [
  {
   "cell_type": "code",
   "execution_count": 1,
   "id": "a86ce06d",
   "metadata": {
    "_cell_guid": "be980acd-8767-4d19-a912-168ba103a575",
    "_uuid": "927429b8-e5c7-4ade-b07a-f9028bdcb700",
    "collapsed": false,
    "execution": {
     "iopub.execute_input": "2024-05-02T06:55:48.522409Z",
     "iopub.status.busy": "2024-05-02T06:55:48.522058Z",
     "iopub.status.idle": "2024-05-02T06:55:53.348945Z",
     "shell.execute_reply": "2024-05-02T06:55:53.347979Z"
    },
    "jupyter": {
     "outputs_hidden": false
    },
    "papermill": {
     "duration": 4.835844,
     "end_time": "2024-05-02T06:55:53.351385",
     "exception": false,
     "start_time": "2024-05-02T06:55:48.515541",
     "status": "completed"
    },
    "tags": []
   },
   "outputs": [
    {
     "name": "stdout",
     "output_type": "stream",
     "text": [
      "Cloning into 'ZoeDepth'...\r\n",
      "remote: Enumerating objects: 111, done.\u001b[K\r\n",
      "remote: Counting objects: 100% (105/105), done.\u001b[K\r\n",
      "remote: Compressing objects: 100% (77/77), done.\u001b[K\r\n",
      "remote: Total 111 (delta 39), reused 63 (delta 24), pack-reused 6\u001b[K\r\n",
      "Receiving objects: 100% (111/111), 4.09 MiB | 7.86 MiB/s, done.\r\n",
      "Resolving deltas: 100% (39/39), done.\r\n"
     ]
    }
   ],
   "source": [
    "!git clone https://github.com/isl-org/ZoeDepth.git"
   ]
  },
  {
   "cell_type": "code",
   "execution_count": 2,
   "id": "5af2420e",
   "metadata": {
    "_cell_guid": "0e942529-d9ff-4e63-acc2-04a8d550223a",
    "_uuid": "6c2f4728-3f4e-419a-9d65-7d964ae724cc",
    "collapsed": false,
    "execution": {
     "iopub.execute_input": "2024-05-02T06:55:53.364276Z",
     "iopub.status.busy": "2024-05-02T06:55:53.363952Z",
     "iopub.status.idle": "2024-05-02T06:55:53.370585Z",
     "shell.execute_reply": "2024-05-02T06:55:53.369501Z"
    },
    "jupyter": {
     "outputs_hidden": false
    },
    "papermill": {
     "duration": 0.015239,
     "end_time": "2024-05-02T06:55:53.372485",
     "exception": false,
     "start_time": "2024-05-02T06:55:53.357246",
     "status": "completed"
    },
    "tags": []
   },
   "outputs": [
    {
     "name": "stdout",
     "output_type": "stream",
     "text": [
      "/kaggle/working\n"
     ]
    }
   ],
   "source": [
    "cd /kaggle/working/"
   ]
  },
  {
   "cell_type": "code",
   "execution_count": 3,
   "id": "f397512e",
   "metadata": {
    "_cell_guid": "e51ef678-6323-4dbf-a775-523039106136",
    "_uuid": "0904284d-dead-448f-a98d-de2f27d7f8ae",
    "collapsed": false,
    "execution": {
     "iopub.execute_input": "2024-05-02T06:55:53.385045Z",
     "iopub.status.busy": "2024-05-02T06:55:53.384721Z",
     "iopub.status.idle": "2024-05-02T06:56:07.974837Z",
     "shell.execute_reply": "2024-05-02T06:56:07.973679Z"
    },
    "jupyter": {
     "outputs_hidden": false
    },
    "papermill": {
     "duration": 14.599318,
     "end_time": "2024-05-02T06:56:07.977429",
     "exception": false,
     "start_time": "2024-05-02T06:55:53.378111",
     "status": "completed"
    },
    "tags": []
   },
   "outputs": [
    {
     "name": "stdout",
     "output_type": "stream",
     "text": [
      "Collecting timm==0.6.7\r\n",
      "  Downloading timm-0.6.7-py3-none-any.whl.metadata (33 kB)\r\n",
      "Requirement already satisfied: torch>=1.4 in /opt/conda/lib/python3.10/site-packages (from timm==0.6.7) (2.1.2)\r\n",
      "Requirement already satisfied: torchvision in /opt/conda/lib/python3.10/site-packages (from timm==0.6.7) (0.16.2)\r\n",
      "Requirement already satisfied: filelock in /opt/conda/lib/python3.10/site-packages (from torch>=1.4->timm==0.6.7) (3.13.1)\r\n",
      "Requirement already satisfied: typing-extensions in /opt/conda/lib/python3.10/site-packages (from torch>=1.4->timm==0.6.7) (4.9.0)\r\n",
      "Requirement already satisfied: sympy in /opt/conda/lib/python3.10/site-packages (from torch>=1.4->timm==0.6.7) (1.12)\r\n",
      "Requirement already satisfied: networkx in /opt/conda/lib/python3.10/site-packages (from torch>=1.4->timm==0.6.7) (3.2.1)\r\n",
      "Requirement already satisfied: jinja2 in /opt/conda/lib/python3.10/site-packages (from torch>=1.4->timm==0.6.7) (3.1.2)\r\n",
      "Requirement already satisfied: fsspec in /opt/conda/lib/python3.10/site-packages (from torch>=1.4->timm==0.6.7) (2024.2.0)\r\n",
      "Requirement already satisfied: numpy in /opt/conda/lib/python3.10/site-packages (from torchvision->timm==0.6.7) (1.26.4)\r\n",
      "Requirement already satisfied: requests in /opt/conda/lib/python3.10/site-packages (from torchvision->timm==0.6.7) (2.31.0)\r\n",
      "Requirement already satisfied: pillow!=8.3.*,>=5.3.0 in /opt/conda/lib/python3.10/site-packages (from torchvision->timm==0.6.7) (9.5.0)\r\n",
      "Requirement already satisfied: MarkupSafe>=2.0 in /opt/conda/lib/python3.10/site-packages (from jinja2->torch>=1.4->timm==0.6.7) (2.1.3)\r\n",
      "Requirement already satisfied: charset-normalizer<4,>=2 in /opt/conda/lib/python3.10/site-packages (from requests->torchvision->timm==0.6.7) (3.3.2)\r\n",
      "Requirement already satisfied: idna<4,>=2.5 in /opt/conda/lib/python3.10/site-packages (from requests->torchvision->timm==0.6.7) (3.6)\r\n",
      "Requirement already satisfied: urllib3<3,>=1.21.1 in /opt/conda/lib/python3.10/site-packages (from requests->torchvision->timm==0.6.7) (1.26.18)\r\n",
      "Requirement already satisfied: certifi>=2017.4.17 in /opt/conda/lib/python3.10/site-packages (from requests->torchvision->timm==0.6.7) (2024.2.2)\r\n",
      "Requirement already satisfied: mpmath>=0.19 in /opt/conda/lib/python3.10/site-packages (from sympy->torch>=1.4->timm==0.6.7) (1.3.0)\r\n",
      "Downloading timm-0.6.7-py3-none-any.whl (509 kB)\r\n",
      "\u001b[2K   \u001b[90m━━━━━━━━━━━━━━━━━━━━━━━━━━━━━━━━━━━━━━━━\u001b[0m \u001b[32m510.0/510.0 kB\u001b[0m \u001b[31m10.1 MB/s\u001b[0m eta \u001b[36m0:00:00\u001b[0m\r\n",
      "\u001b[?25hInstalling collected packages: timm\r\n",
      "  Attempting uninstall: timm\r\n",
      "    Found existing installation: timm 0.9.16\r\n",
      "    Uninstalling timm-0.9.16:\r\n",
      "      Successfully uninstalled timm-0.9.16\r\n",
      "Successfully installed timm-0.6.7\r\n"
     ]
    }
   ],
   "source": [
    "!pip install timm==0.6.7"
   ]
  },
  {
   "cell_type": "code",
   "execution_count": 4,
   "id": "7cc812f6",
   "metadata": {
    "_cell_guid": "5eb39bb4-9948-4c50-a401-8798bc0b5d05",
    "_uuid": "088a93b3-4c76-4ba8-97d0-195e9f239fe3",
    "collapsed": false,
    "execution": {
     "iopub.execute_input": "2024-05-02T06:56:07.992991Z",
     "iopub.status.busy": "2024-05-02T06:56:07.992208Z",
     "iopub.status.idle": "2024-05-02T06:59:01.656100Z",
     "shell.execute_reply": "2024-05-02T06:59:01.655016Z"
    },
    "jupyter": {
     "outputs_hidden": false
    },
    "papermill": {
     "duration": 173.674736,
     "end_time": "2024-05-02T06:59:01.658889",
     "exception": false,
     "start_time": "2024-05-02T06:56:07.984153",
     "status": "completed"
    },
    "tags": []
   },
   "outputs": [
    {
     "name": "stdout",
     "output_type": "stream",
     "text": [
      "Collecting wandb==0.13.9\r\n",
      "  Downloading wandb-0.13.9-py2.py3-none-any.whl.metadata (7.7 kB)\r\n",
      "Requirement already satisfied: Click!=8.0.0,>=7.0 in /opt/conda/lib/python3.10/site-packages (from wandb==0.13.9) (8.1.7)\r\n",
      "Requirement already satisfied: GitPython>=1.0.0 in /opt/conda/lib/python3.10/site-packages (from wandb==0.13.9) (3.1.41)\r\n",
      "Requirement already satisfied: requests<3,>=2.0.0 in /opt/conda/lib/python3.10/site-packages (from wandb==0.13.9) (2.31.0)\r\n",
      "Requirement already satisfied: psutil>=5.0.0 in /opt/conda/lib/python3.10/site-packages (from wandb==0.13.9) (5.9.3)\r\n",
      "Requirement already satisfied: sentry-sdk>=1.0.0 in /opt/conda/lib/python3.10/site-packages (from wandb==0.13.9) (1.45.0)\r\n",
      "Requirement already satisfied: docker-pycreds>=0.4.0 in /opt/conda/lib/python3.10/site-packages (from wandb==0.13.9) (0.4.0)\r\n",
      "Requirement already satisfied: PyYAML in /opt/conda/lib/python3.10/site-packages (from wandb==0.13.9) (6.0.1)\r\n",
      "Collecting pathtools (from wandb==0.13.9)\r\n",
      "  Downloading pathtools-0.1.2.tar.gz (11 kB)\r\n",
      "  Preparing metadata (setup.py) ... \u001b[?25l-\b \b\\\b \bdone\r\n",
      "\u001b[?25hRequirement already satisfied: setproctitle in /opt/conda/lib/python3.10/site-packages (from wandb==0.13.9) (1.3.3)\r\n",
      "Requirement already satisfied: setuptools in /opt/conda/lib/python3.10/site-packages (from wandb==0.13.9) (69.0.3)\r\n",
      "Requirement already satisfied: appdirs>=1.4.3 in /opt/conda/lib/python3.10/site-packages (from wandb==0.13.9) (1.4.4)\r\n",
      "Requirement already satisfied: protobuf!=4.21.0,<5,>=3.19.0 in /opt/conda/lib/python3.10/site-packages (from wandb==0.13.9) (3.20.3)\r\n",
      "Requirement already satisfied: six>=1.4.0 in /opt/conda/lib/python3.10/site-packages (from docker-pycreds>=0.4.0->wandb==0.13.9) (1.16.0)\r\n",
      "Requirement already satisfied: gitdb<5,>=4.0.1 in /opt/conda/lib/python3.10/site-packages (from GitPython>=1.0.0->wandb==0.13.9) (4.0.11)\r\n",
      "Requirement already satisfied: charset-normalizer<4,>=2 in /opt/conda/lib/python3.10/site-packages (from requests<3,>=2.0.0->wandb==0.13.9) (3.3.2)\r\n",
      "Requirement already satisfied: idna<4,>=2.5 in /opt/conda/lib/python3.10/site-packages (from requests<3,>=2.0.0->wandb==0.13.9) (3.6)\r\n",
      "Requirement already satisfied: urllib3<3,>=1.21.1 in /opt/conda/lib/python3.10/site-packages (from requests<3,>=2.0.0->wandb==0.13.9) (1.26.18)\r\n",
      "Requirement already satisfied: certifi>=2017.4.17 in /opt/conda/lib/python3.10/site-packages (from requests<3,>=2.0.0->wandb==0.13.9) (2024.2.2)\r\n",
      "Requirement already satisfied: smmap<6,>=3.0.1 in /opt/conda/lib/python3.10/site-packages (from gitdb<5,>=4.0.1->GitPython>=1.0.0->wandb==0.13.9) (5.0.1)\r\n",
      "Downloading wandb-0.13.9-py2.py3-none-any.whl (2.0 MB)\r\n",
      "\u001b[2K   \u001b[90m━━━━━━━━━━━━━━━━━━━━━━━━━━━━━━━━━━━━━━━━\u001b[0m \u001b[32m2.0/2.0 MB\u001b[0m \u001b[31m22.2 MB/s\u001b[0m eta \u001b[36m0:00:00\u001b[0m\r\n",
      "\u001b[?25hBuilding wheels for collected packages: pathtools\r\n",
      "  Building wheel for pathtools (setup.py) ... \u001b[?25l-\b \b\\\b \b|\b \bdone\r\n",
      "\u001b[?25h  Created wheel for pathtools: filename=pathtools-0.1.2-py3-none-any.whl size=8793 sha256=14b5b309604d4671aeda95696d7e80b903fd76592ea89f89a14cf0f2cb2cb2d0\r\n",
      "  Stored in directory: /root/.cache/pip/wheels/e7/f3/22/152153d6eb222ee7a56ff8617d80ee5207207a8c00a7aab794\r\n",
      "Successfully built pathtools\r\n",
      "Installing collected packages: pathtools, wandb\r\n",
      "  Attempting uninstall: wandb\r\n",
      "    Found existing installation: wandb 0.16.6\r\n",
      "    Uninstalling wandb-0.16.6:\r\n",
      "      Successfully uninstalled wandb-0.16.6\r\n",
      "Successfully installed pathtools-0.1.2 wandb-0.13.9\r\n",
      "Collecting scipy==1.10.0\r\n",
      "  Downloading scipy-1.10.0-cp310-cp310-manylinux_2_17_x86_64.manylinux2014_x86_64.whl.metadata (58 kB)\r\n",
      "\u001b[2K     \u001b[90m━━━━━━━━━━━━━━━━━━━━━━━━━━━━━━━━━━━━━━━━\u001b[0m \u001b[32m58.9/58.9 kB\u001b[0m \u001b[31m2.1 MB/s\u001b[0m eta \u001b[36m0:00:00\u001b[0m\r\n",
      "\u001b[?25hRequirement already satisfied: numpy<1.27.0,>=1.19.5 in /opt/conda/lib/python3.10/site-packages (from scipy==1.10.0) (1.26.4)\r\n",
      "Downloading scipy-1.10.0-cp310-cp310-manylinux_2_17_x86_64.manylinux2014_x86_64.whl (34.4 MB)\r\n",
      "\u001b[2K   \u001b[90m━━━━━━━━━━━━━━━━━━━━━━━━━━━━━━━━━━━━━━━━\u001b[0m \u001b[32m34.4/34.4 MB\u001b[0m \u001b[31m51.3 MB/s\u001b[0m eta \u001b[36m0:00:00\u001b[0m\r\n",
      "\u001b[?25hInstalling collected packages: scipy\r\n",
      "  Attempting uninstall: scipy\r\n",
      "    Found existing installation: scipy 1.11.4\r\n",
      "    Uninstalling scipy-1.11.4:\r\n",
      "      Successfully uninstalled scipy-1.11.4\r\n",
      "\u001b[31mERROR: pip's dependency resolver does not currently take into account all the packages that are installed. This behaviour is the source of the following dependency conflicts.\r\n",
      "cuml 23.8.0 requires cupy-cuda11x>=12.0.0, which is not installed.\r\n",
      "cuml 23.8.0 requires dask==2023.7.1, but you have dask 2024.4.1 which is incompatible.\r\n",
      "kaggle-environments 1.14.3 requires scipy>=1.11.2, but you have scipy 1.10.0 which is incompatible.\r\n",
      "libpysal 4.9.2 requires packaging>=22, but you have packaging 21.3 which is incompatible.\r\n",
      "libpysal 4.9.2 requires shapely>=2.0.1, but you have shapely 1.8.5.post1 which is incompatible.\r\n",
      "momepy 0.7.0 requires shapely>=2, but you have shapely 1.8.5.post1 which is incompatible.\r\n",
      "spopt 0.6.0 requires shapely>=2.0.1, but you have shapely 1.8.5.post1 which is incompatible.\r\n",
      "ydata-profiling 4.6.4 requires numpy<1.26,>=1.16.0, but you have numpy 1.26.4 which is incompatible.\u001b[0m\u001b[31m\r\n",
      "\u001b[0mSuccessfully installed scipy-1.10.0\r\n",
      "Collecting torchaudio==0.13.1\r\n",
      "  Downloading torchaudio-0.13.1-cp310-cp310-manylinux1_x86_64.whl.metadata (1.2 kB)\r\n",
      "Collecting torch==1.13.1 (from torchaudio==0.13.1)\r\n",
      "  Downloading torch-1.13.1-cp310-cp310-manylinux1_x86_64.whl.metadata (24 kB)\r\n",
      "Requirement already satisfied: typing-extensions in /opt/conda/lib/python3.10/site-packages (from torch==1.13.1->torchaudio==0.13.1) (4.9.0)\r\n",
      "Collecting nvidia-cuda-runtime-cu11==11.7.99 (from torch==1.13.1->torchaudio==0.13.1)\r\n",
      "  Downloading nvidia_cuda_runtime_cu11-11.7.99-py3-none-manylinux1_x86_64.whl.metadata (1.6 kB)\r\n",
      "Collecting nvidia-cudnn-cu11==8.5.0.96 (from torch==1.13.1->torchaudio==0.13.1)\r\n",
      "  Downloading nvidia_cudnn_cu11-8.5.0.96-2-py3-none-manylinux1_x86_64.whl.metadata (1.6 kB)\r\n",
      "Collecting nvidia-cublas-cu11==11.10.3.66 (from torch==1.13.1->torchaudio==0.13.1)\r\n",
      "  Downloading nvidia_cublas_cu11-11.10.3.66-py3-none-manylinux1_x86_64.whl.metadata (1.6 kB)\r\n",
      "Collecting nvidia-cuda-nvrtc-cu11==11.7.99 (from torch==1.13.1->torchaudio==0.13.1)\r\n",
      "  Downloading nvidia_cuda_nvrtc_cu11-11.7.99-2-py3-none-manylinux1_x86_64.whl.metadata (1.5 kB)\r\n",
      "Requirement already satisfied: setuptools in /opt/conda/lib/python3.10/site-packages (from nvidia-cublas-cu11==11.10.3.66->torch==1.13.1->torchaudio==0.13.1) (69.0.3)\r\n",
      "Requirement already satisfied: wheel in /opt/conda/lib/python3.10/site-packages (from nvidia-cublas-cu11==11.10.3.66->torch==1.13.1->torchaudio==0.13.1) (0.42.0)\r\n",
      "Downloading torchaudio-0.13.1-cp310-cp310-manylinux1_x86_64.whl (4.2 MB)\r\n",
      "\u001b[2K   \u001b[90m━━━━━━━━━━━━━━━━━━━━━━━━━━━━━━━━━━━━━━━━\u001b[0m \u001b[32m4.2/4.2 MB\u001b[0m \u001b[31m42.9 MB/s\u001b[0m eta \u001b[36m0:00:00\u001b[0m\r\n",
      "\u001b[?25hDownloading torch-1.13.1-cp310-cp310-manylinux1_x86_64.whl (887.5 MB)\r\n",
      "\u001b[2K   \u001b[90m━━━━━━━━━━━━━━━━━━━━━━━━━━━━━━━━━━━━━━━━\u001b[0m \u001b[32m887.5/887.5 MB\u001b[0m \u001b[31m1.8 MB/s\u001b[0m eta \u001b[36m0:00:00\u001b[0m\r\n",
      "\u001b[?25hDownloading nvidia_cublas_cu11-11.10.3.66-py3-none-manylinux1_x86_64.whl (317.1 MB)\r\n",
      "\u001b[2K   \u001b[90m━━━━━━━━━━━━━━━━━━━━━━━━━━━━━━━━━━━━━━━━\u001b[0m \u001b[32m317.1/317.1 MB\u001b[0m \u001b[31m2.1 MB/s\u001b[0m eta \u001b[36m0:00:00\u001b[0m\r\n",
      "\u001b[?25hDownloading nvidia_cuda_nvrtc_cu11-11.7.99-2-py3-none-manylinux1_x86_64.whl (21.0 MB)\r\n",
      "\u001b[2K   \u001b[90m━━━━━━━━━━━━━━━━━━━━━━━━━━━━━━━━━━━━━━━━\u001b[0m \u001b[32m21.0/21.0 MB\u001b[0m \u001b[31m74.9 MB/s\u001b[0m eta \u001b[36m0:00:00\u001b[0m\r\n",
      "\u001b[?25hDownloading nvidia_cuda_runtime_cu11-11.7.99-py3-none-manylinux1_x86_64.whl (849 kB)\r\n",
      "\u001b[2K   \u001b[90m━━━━━━━━━━━━━━━━━━━━━━━━━━━━━━━━━━━━━━━━\u001b[0m \u001b[32m849.3/849.3 kB\u001b[0m \u001b[31m41.4 MB/s\u001b[0m eta \u001b[36m0:00:00\u001b[0m\r\n",
      "\u001b[?25hDownloading nvidia_cudnn_cu11-8.5.0.96-2-py3-none-manylinux1_x86_64.whl (557.1 MB)\r\n",
      "\u001b[2K   \u001b[90m━━━━━━━━━━━━━━━━━━━━━━━━━━━━━━━━━━━━━━━━\u001b[0m \u001b[32m557.1/557.1 MB\u001b[0m \u001b[31m2.9 MB/s\u001b[0m eta \u001b[36m0:00:00\u001b[0m\r\n",
      "\u001b[?25hInstalling collected packages: nvidia-cuda-runtime-cu11, nvidia-cuda-nvrtc-cu11, nvidia-cublas-cu11, nvidia-cudnn-cu11, torch, torchaudio\r\n",
      "  Attempting uninstall: torch\r\n",
      "    Found existing installation: torch 2.1.2\r\n",
      "    Uninstalling torch-2.1.2:\r\n",
      "      Successfully uninstalled torch-2.1.2\r\n",
      "  Attempting uninstall: torchaudio\r\n",
      "    Found existing installation: torchaudio 2.1.2\r\n",
      "    Uninstalling torchaudio-2.1.2:\r\n",
      "      Successfully uninstalled torchaudio-2.1.2\r\n",
      "\u001b[31mERROR: pip's dependency resolver does not currently take into account all the packages that are installed. This behaviour is the source of the following dependency conflicts.\r\n",
      "torchdata 0.7.1 requires torch>=2, but you have torch 1.13.1 which is incompatible.\u001b[0m\u001b[31m\r\n",
      "\u001b[0mSuccessfully installed nvidia-cublas-cu11-11.10.3.66 nvidia-cuda-nvrtc-cu11-11.7.99 nvidia-cuda-runtime-cu11-11.7.99 nvidia-cudnn-cu11-8.5.0.96 torch-1.13.1 torchaudio-0.13.1\r\n",
      "Collecting huggingface-hub==0.11.1\r\n",
      "  Downloading huggingface_hub-0.11.1-py3-none-any.whl.metadata (7.5 kB)\r\n",
      "Requirement already satisfied: filelock in /opt/conda/lib/python3.10/site-packages (from huggingface-hub==0.11.1) (3.13.1)\r\n",
      "Requirement already satisfied: requests in /opt/conda/lib/python3.10/site-packages (from huggingface-hub==0.11.1) (2.31.0)\r\n",
      "Requirement already satisfied: tqdm in /opt/conda/lib/python3.10/site-packages (from huggingface-hub==0.11.1) (4.66.1)\r\n",
      "Requirement already satisfied: pyyaml>=5.1 in /opt/conda/lib/python3.10/site-packages (from huggingface-hub==0.11.1) (6.0.1)\r\n",
      "Requirement already satisfied: typing-extensions>=3.7.4.3 in /opt/conda/lib/python3.10/site-packages (from huggingface-hub==0.11.1) (4.9.0)\r\n",
      "Requirement already satisfied: packaging>=20.9 in /opt/conda/lib/python3.10/site-packages (from huggingface-hub==0.11.1) (21.3)\r\n",
      "Requirement already satisfied: pyparsing!=3.0.5,>=2.0.2 in /opt/conda/lib/python3.10/site-packages (from packaging>=20.9->huggingface-hub==0.11.1) (3.1.1)\r\n",
      "Requirement already satisfied: charset-normalizer<4,>=2 in /opt/conda/lib/python3.10/site-packages (from requests->huggingface-hub==0.11.1) (3.3.2)\r\n",
      "Requirement already satisfied: idna<4,>=2.5 in /opt/conda/lib/python3.10/site-packages (from requests->huggingface-hub==0.11.1) (3.6)\r\n",
      "Requirement already satisfied: urllib3<3,>=1.21.1 in /opt/conda/lib/python3.10/site-packages (from requests->huggingface-hub==0.11.1) (1.26.18)\r\n",
      "Requirement already satisfied: certifi>=2017.4.17 in /opt/conda/lib/python3.10/site-packages (from requests->huggingface-hub==0.11.1) (2024.2.2)\r\n",
      "Downloading huggingface_hub-0.11.1-py3-none-any.whl (182 kB)\r\n",
      "\u001b[2K   \u001b[90m━━━━━━━━━━━━━━━━━━━━━━━━━━━━━━━━━━━━━━━━\u001b[0m \u001b[32m182.4/182.4 kB\u001b[0m \u001b[31m3.3 MB/s\u001b[0m eta \u001b[36m0:00:00\u001b[0m\r\n",
      "\u001b[?25hInstalling collected packages: huggingface-hub\r\n",
      "  Attempting uninstall: huggingface-hub\r\n",
      "    Found existing installation: huggingface-hub 0.22.2\r\n",
      "    Uninstalling huggingface-hub-0.22.2:\r\n",
      "      Successfully uninstalled huggingface-hub-0.22.2\r\n",
      "\u001b[31mERROR: pip's dependency resolver does not currently take into account all the packages that are installed. This behaviour is the source of the following dependency conflicts.\r\n",
      "datasets 2.18.0 requires huggingface-hub>=0.19.4, but you have huggingface-hub 0.11.1 which is incompatible.\r\n",
      "tokenizers 0.15.2 requires huggingface_hub<1.0,>=0.16.4, but you have huggingface-hub 0.11.1 which is incompatible.\r\n",
      "transformers 4.39.3 requires huggingface-hub<1.0,>=0.19.3, but you have huggingface-hub 0.11.1 which is incompatible.\u001b[0m\u001b[31m\r\n",
      "\u001b[0mSuccessfully installed huggingface-hub-0.11.1\r\n",
      "Collecting tqdm==4.64.1\r\n",
      "  Downloading tqdm-4.64.1-py2.py3-none-any.whl.metadata (57 kB)\r\n",
      "\u001b[2K     \u001b[90m━━━━━━━━━━━━━━━━━━━━━━━━━━━━━━━━━━━━━━━━\u001b[0m \u001b[32m57.3/57.3 kB\u001b[0m \u001b[31m1.9 MB/s\u001b[0m eta \u001b[36m0:00:00\u001b[0m\r\n",
      "\u001b[?25hDownloading tqdm-4.64.1-py2.py3-none-any.whl (78 kB)\r\n",
      "\u001b[2K   \u001b[90m━━━━━━━━━━━━━━━━━━━━━━━━━━━━━━━━━━━━━━━━\u001b[0m \u001b[32m78.5/78.5 kB\u001b[0m \u001b[31m3.3 MB/s\u001b[0m eta \u001b[36m0:00:00\u001b[0m\r\n",
      "\u001b[?25hInstalling collected packages: tqdm\r\n",
      "  Attempting uninstall: tqdm\r\n",
      "    Found existing installation: tqdm 4.66.1\r\n",
      "    Uninstalling tqdm-4.66.1:\r\n",
      "      Successfully uninstalled tqdm-4.66.1\r\n",
      "\u001b[31mERROR: pip's dependency resolver does not currently take into account all the packages that are installed. This behaviour is the source of the following dependency conflicts.\r\n",
      "keras-cv 0.8.2 requires keras-core, which is not installed.\r\n",
      "keras-nlp 0.9.3 requires keras-core, which is not installed.\r\n",
      "beatrix-jupyterlab 2023.128.151533 requires jupyterlab~=3.6.0, but you have jupyterlab 4.1.6 which is incompatible.\r\n",
      "datasets 2.18.0 requires huggingface-hub>=0.19.4, but you have huggingface-hub 0.11.1 which is incompatible.\r\n",
      "fitter 1.7.0 requires tqdm<5.0.0,>=4.65.1, but you have tqdm 4.64.1 which is incompatible.\r\n",
      "momepy 0.7.0 requires shapely>=2, but you have shapely 1.8.5.post1 which is incompatible.\r\n",
      "spopt 0.6.0 requires shapely>=2.0.1, but you have shapely 1.8.5.post1 which is incompatible.\r\n",
      "tokenizers 0.15.2 requires huggingface_hub<1.0,>=0.16.4, but you have huggingface-hub 0.11.1 which is incompatible.\r\n",
      "transformers 4.39.3 requires huggingface-hub<1.0,>=0.19.3, but you have huggingface-hub 0.11.1 which is incompatible.\r\n",
      "ydata-profiling 4.6.4 requires numpy<1.26,>=1.16.0, but you have numpy 1.26.4 which is incompatible.\u001b[0m\u001b[31m\r\n",
      "\u001b[0mSuccessfully installed tqdm-4.64.1\r\n",
      "\u001b[31mERROR: Could not find a version that satisfies the requirement pytorch==1.13.1 (from versions: 0.1.2, 1.0.2)\u001b[0m\u001b[31m\r\n",
      "\u001b[0m\u001b[31mERROR: No matching distribution found for pytorch==1.13.1\u001b[0m\u001b[31m\r\n",
      "\u001b[0mCollecting torchvision==0.14.1\r\n",
      "  Downloading torchvision-0.14.1-cp310-cp310-manylinux1_x86_64.whl.metadata (11 kB)\r\n",
      "Requirement already satisfied: typing-extensions in /opt/conda/lib/python3.10/site-packages (from torchvision==0.14.1) (4.9.0)\r\n",
      "Requirement already satisfied: numpy in /opt/conda/lib/python3.10/site-packages (from torchvision==0.14.1) (1.26.4)\r\n",
      "Requirement already satisfied: requests in /opt/conda/lib/python3.10/site-packages (from torchvision==0.14.1) (2.31.0)\r\n",
      "Requirement already satisfied: torch==1.13.1 in /opt/conda/lib/python3.10/site-packages (from torchvision==0.14.1) (1.13.1)\r\n",
      "Requirement already satisfied: pillow!=8.3.*,>=5.3.0 in /opt/conda/lib/python3.10/site-packages (from torchvision==0.14.1) (9.5.0)\r\n",
      "Requirement already satisfied: nvidia-cuda-runtime-cu11==11.7.99 in /opt/conda/lib/python3.10/site-packages (from torch==1.13.1->torchvision==0.14.1) (11.7.99)\r\n",
      "Requirement already satisfied: nvidia-cudnn-cu11==8.5.0.96 in /opt/conda/lib/python3.10/site-packages (from torch==1.13.1->torchvision==0.14.1) (8.5.0.96)\r\n",
      "Requirement already satisfied: nvidia-cublas-cu11==11.10.3.66 in /opt/conda/lib/python3.10/site-packages (from torch==1.13.1->torchvision==0.14.1) (11.10.3.66)\r\n",
      "Requirement already satisfied: nvidia-cuda-nvrtc-cu11==11.7.99 in /opt/conda/lib/python3.10/site-packages (from torch==1.13.1->torchvision==0.14.1) (11.7.99)\r\n",
      "Requirement already satisfied: setuptools in /opt/conda/lib/python3.10/site-packages (from nvidia-cublas-cu11==11.10.3.66->torch==1.13.1->torchvision==0.14.1) (69.0.3)\r\n",
      "Requirement already satisfied: wheel in /opt/conda/lib/python3.10/site-packages (from nvidia-cublas-cu11==11.10.3.66->torch==1.13.1->torchvision==0.14.1) (0.42.0)\r\n",
      "Requirement already satisfied: charset-normalizer<4,>=2 in /opt/conda/lib/python3.10/site-packages (from requests->torchvision==0.14.1) (3.3.2)\r\n",
      "Requirement already satisfied: idna<4,>=2.5 in /opt/conda/lib/python3.10/site-packages (from requests->torchvision==0.14.1) (3.6)\r\n",
      "Requirement already satisfied: urllib3<3,>=1.21.1 in /opt/conda/lib/python3.10/site-packages (from requests->torchvision==0.14.1) (1.26.18)\r\n",
      "Requirement already satisfied: certifi>=2017.4.17 in /opt/conda/lib/python3.10/site-packages (from requests->torchvision==0.14.1) (2024.2.2)\r\n",
      "Downloading torchvision-0.14.1-cp310-cp310-manylinux1_x86_64.whl (24.2 MB)\r\n",
      "\u001b[2K   \u001b[90m━━━━━━━━━━━━━━━━━━━━━━━━━━━━━━━━━━━━━━━━\u001b[0m \u001b[32m24.2/24.2 MB\u001b[0m \u001b[31m60.9 MB/s\u001b[0m eta \u001b[36m0:00:00\u001b[0m\r\n",
      "\u001b[?25hInstalling collected packages: torchvision\r\n",
      "  Attempting uninstall: torchvision\r\n",
      "    Found existing installation: torchvision 0.16.2\r\n",
      "    Uninstalling torchvision-0.16.2:\r\n",
      "      Successfully uninstalled torchvision-0.16.2\r\n",
      "Successfully installed torchvision-0.14.1\r\n"
     ]
    }
   ],
   "source": [
    "!pip install wandb==0.13.9\n",
    "!pip install scipy==1.10.0\n",
    "!pip install torchaudio==0.13.1\n",
    "!pip install huggingface-hub==0.11.1\n",
    "!pip install tqdm==4.64.1\n",
    "!pip install  pytorch==1.13.1\n",
    "!pip install torchvision==0.14.1"
   ]
  },
  {
   "cell_type": "code",
   "execution_count": 5,
   "id": "956eaaa9",
   "metadata": {
    "execution": {
     "iopub.execute_input": "2024-05-02T06:59:01.770829Z",
     "iopub.status.busy": "2024-05-02T06:59:01.770378Z",
     "iopub.status.idle": "2024-05-02T06:59:01.778413Z",
     "shell.execute_reply": "2024-05-02T06:59:01.777308Z"
    },
    "papermill": {
     "duration": 0.064136,
     "end_time": "2024-05-02T06:59:01.780885",
     "exception": false,
     "start_time": "2024-05-02T06:59:01.716749",
     "status": "completed"
    },
    "tags": []
   },
   "outputs": [
    {
     "name": "stdout",
     "output_type": "stream",
     "text": [
      "/root\n"
     ]
    }
   ],
   "source": [
    "cd /root/"
   ]
  },
  {
   "cell_type": "code",
   "execution_count": 6,
   "id": "382c2e80",
   "metadata": {
    "execution": {
     "iopub.execute_input": "2024-05-02T06:59:01.891201Z",
     "iopub.status.busy": "2024-05-02T06:59:01.890481Z",
     "iopub.status.idle": "2024-05-02T06:59:17.044993Z",
     "shell.execute_reply": "2024-05-02T06:59:17.043790Z"
    },
    "papermill": {
     "duration": 15.210421,
     "end_time": "2024-05-02T06:59:17.047361",
     "exception": false,
     "start_time": "2024-05-02T06:59:01.836940",
     "status": "completed"
    },
    "tags": []
   },
   "outputs": [],
   "source": [
    "!cp -r /kaggle/input/nyu-depth-v2/nyu_data/data/nyu2_test /root/"
   ]
  },
  {
   "cell_type": "code",
   "execution_count": 7,
   "id": "2c82cd4b",
   "metadata": {
    "execution": {
     "iopub.execute_input": "2024-05-02T06:59:17.154255Z",
     "iopub.status.busy": "2024-05-02T06:59:17.153936Z",
     "iopub.status.idle": "2024-05-02T07:03:16.247847Z",
     "shell.execute_reply": "2024-05-02T07:03:16.246513Z"
    },
    "papermill": {
     "duration": 239.149921,
     "end_time": "2024-05-02T07:03:16.250406",
     "exception": false,
     "start_time": "2024-05-02T06:59:17.100485",
     "status": "completed"
    },
    "tags": []
   },
   "outputs": [],
   "source": [
    "!cp -r /kaggle/input/synczip/sync /root/"
   ]
  },
  {
   "cell_type": "code",
   "execution_count": 8,
   "id": "66788420",
   "metadata": {
    "execution": {
     "iopub.execute_input": "2024-05-02T07:03:16.357815Z",
     "iopub.status.busy": "2024-05-02T07:03:16.357097Z",
     "iopub.status.idle": "2024-05-02T07:03:16.362682Z",
     "shell.execute_reply": "2024-05-02T07:03:16.361882Z"
    },
    "papermill": {
     "duration": 0.060996,
     "end_time": "2024-05-02T07:03:16.364617",
     "exception": false,
     "start_time": "2024-05-02T07:03:16.303621",
     "status": "completed"
    },
    "tags": []
   },
   "outputs": [],
   "source": [
    "import os\n",
    "path = '/kaggle/working/ZoeDepth/zoedepth/utils/config.py'\n",
    "if os.path.isfile(path):\n",
    "    os.remove(path)\n"
   ]
  },
  {
   "cell_type": "code",
   "execution_count": 9,
   "id": "4b7a974f",
   "metadata": {
    "execution": {
     "iopub.execute_input": "2024-05-02T07:03:16.475732Z",
     "iopub.status.busy": "2024-05-02T07:03:16.475420Z",
     "iopub.status.idle": "2024-05-02T07:03:16.479848Z",
     "shell.execute_reply": "2024-05-02T07:03:16.479032Z"
    },
    "papermill": {
     "duration": 0.062523,
     "end_time": "2024-05-02T07:03:16.481763",
     "exception": false,
     "start_time": "2024-05-02T07:03:16.419240",
     "status": "completed"
    },
    "tags": []
   },
   "outputs": [],
   "source": [
    "import os\n",
    "path = '/kaggle/working/ZoeDepth/zoedepth/models/zoedepth/config_zoedepth.json'\n",
    "if os.path.isfile(path):\n",
    "    os.remove(path)\n"
   ]
  },
  {
   "cell_type": "code",
   "execution_count": 10,
   "id": "79698ba1",
   "metadata": {
    "execution": {
     "iopub.execute_input": "2024-05-02T07:03:16.637553Z",
     "iopub.status.busy": "2024-05-02T07:03:16.637203Z",
     "iopub.status.idle": "2024-05-02T07:03:17.586587Z",
     "shell.execute_reply": "2024-05-02T07:03:17.585483Z"
    },
    "papermill": {
     "duration": 1.051509,
     "end_time": "2024-05-02T07:03:17.588945",
     "exception": false,
     "start_time": "2024-05-02T07:03:16.537436",
     "status": "completed"
    },
    "tags": []
   },
   "outputs": [],
   "source": [
    "!cp -r /kaggle/input/confic/config_zoedepth.json /kaggle/working/ZoeDepth/zoedepth/models/zoedepth"
   ]
  },
  {
   "cell_type": "code",
   "execution_count": 11,
   "id": "77a241c4",
   "metadata": {
    "execution": {
     "iopub.execute_input": "2024-05-02T07:03:17.698077Z",
     "iopub.status.busy": "2024-05-02T07:03:17.697733Z",
     "iopub.status.idle": "2024-05-02T07:03:18.633388Z",
     "shell.execute_reply": "2024-05-02T07:03:18.632207Z"
    },
    "papermill": {
     "duration": 0.993493,
     "end_time": "2024-05-02T07:03:18.635814",
     "exception": false,
     "start_time": "2024-05-02T07:03:17.642321",
     "status": "completed"
    },
    "tags": []
   },
   "outputs": [],
   "source": [
    "!cp /kaggle/input/confic1/config.py /kaggle/working/ZoeDepth/zoedepth/utils"
   ]
  },
  {
   "cell_type": "code",
   "execution_count": 12,
   "id": "b18cc7d3",
   "metadata": {
    "execution": {
     "iopub.execute_input": "2024-05-02T07:03:18.743362Z",
     "iopub.status.busy": "2024-05-02T07:03:18.742979Z",
     "iopub.status.idle": "2024-05-02T07:03:19.701160Z",
     "shell.execute_reply": "2024-05-02T07:03:19.700246Z"
    },
    "papermill": {
     "duration": 1.014585,
     "end_time": "2024-05-02T07:03:19.703428",
     "exception": false,
     "start_time": "2024-05-02T07:03:18.688843",
     "status": "completed"
    },
    "tags": []
   },
   "outputs": [
    {
     "name": "stdout",
     "output_type": "stream",
     "text": [
      "cp: missing destination file operand after '/kaggle/input/synczip/sync'\r\n",
      "Try 'cp --help' for more information.\r\n"
     ]
    }
   ],
   "source": [
    "!cp -r /kaggle/input/synczip/sync"
   ]
  },
  {
   "cell_type": "code",
   "execution_count": 13,
   "id": "7ee0cda0",
   "metadata": {
    "_cell_guid": "9d96ae76-ac54-4889-886b-070a21193155",
    "_uuid": "2d22cbad-128b-43cf-b144-f91143cad179",
    "collapsed": false,
    "execution": {
     "iopub.execute_input": "2024-05-02T07:03:19.811662Z",
     "iopub.status.busy": "2024-05-02T07:03:19.811051Z",
     "iopub.status.idle": "2024-05-02T08:05:41.673312Z",
     "shell.execute_reply": "2024-05-02T08:05:41.672112Z"
    },
    "jupyter": {
     "outputs_hidden": false
    },
    "papermill": {
     "duration": 3741.919096,
     "end_time": "2024-05-02T08:05:41.675719",
     "exception": false,
     "start_time": "2024-05-02T07:03:19.756623",
     "status": "completed"
    },
    "tags": []
   },
   "outputs": [
    {
     "name": "stdout",
     "output_type": "stream",
     "text": [
      "\u001b[34m\u001b[1mwandb\u001b[0m: Appending key for api.wandb.ai to your netrc file: /root/.netrc\r\n",
      "0\r\n",
      "tcp://127.0.0.1:15020\r\n",
      "Config:\r\n",
      "{'attractor_alpha': 1000,\r\n",
      " 'attractor_gamma': 2,\r\n",
      " 'attractor_kind': 'mean',\r\n",
      " 'attractor_type': 'inv',\r\n",
      " 'aug': True,\r\n",
      " 'avoid_boundary': False,\r\n",
      " 'batch_size': 2,\r\n",
      " 'bin_centers_type': 'softplus',\r\n",
      " 'bin_embedding_dim': 128,\r\n",
      " 'bs': 2,\r\n",
      " 'clip_grad': 0.1,\r\n",
      " 'cycle_momentum': True,\r\n",
      " 'data_path': '/root/./sync',\r\n",
      " 'data_path_eval': '/root/./nyu2_test',\r\n",
      " 'dataset': 'nyu',\r\n",
      " 'degree': 1.0,\r\n",
      " 'dist_backend': 'nccl',\r\n",
      " 'dist_url': 'tcp://127.0.0.1:15020',\r\n",
      " 'distributed': True,\r\n",
      " 'div_factor': 1,\r\n",
      " 'do_kb_crop': False,\r\n",
      " 'do_random_rotate': True,\r\n",
      " 'eigen_crop': True,\r\n",
      " 'encoder_lr_factor': 10,\r\n",
      " 'epochs': 5,\r\n",
      " 'filenames_file': '/kaggle/working/ZoeDepth/train_test_inputs/nyudepthv2_train_files_with_gt.txt',\r\n",
      " 'filenames_file_eval': '/kaggle/working/ZoeDepth/train_test_inputs/nyudepthv2_test_files_with_gt.txt',\r\n",
      " 'final_div_factor': 10000,\r\n",
      " 'freeze_midas_bn': True,\r\n",
      " 'garg_crop': False,\r\n",
      " 'gpu': None,\r\n",
      " 'gt_path': '/root/./sync',\r\n",
      " 'gt_path_eval': '/root/./nyu2_test',\r\n",
      " 'img_size': [384, 512],\r\n",
      " 'input_height': 480,\r\n",
      " 'input_width': 640,\r\n",
      " 'inverse_midas': False,\r\n",
      " 'log_images_every': 0.1,\r\n",
      " 'lr': 0.000161,\r\n",
      " 'max_depth': 10,\r\n",
      " 'max_depth_diff': 10,\r\n",
      " 'max_depth_eval': 10,\r\n",
      " 'max_temp': 50.0,\r\n",
      " 'max_translation': 100,\r\n",
      " 'memory_efficient': True,\r\n",
      " 'midas_lr_factor': 1,\r\n",
      " 'midas_model_type': 'DPT_BEiT_L_384',\r\n",
      " 'min_depth': 0.001,\r\n",
      " 'min_depth_diff': -10,\r\n",
      " 'min_depth_eval': 0.001,\r\n",
      " 'min_temp': 0.0212,\r\n",
      " 'mode': 'train',\r\n",
      " 'model': 'zoedepth',\r\n",
      " 'n_attractors': [16, 8, 4, 1],\r\n",
      " 'n_bins': 64,\r\n",
      " 'name': 'ZoeDepth',\r\n",
      " 'ngpus_per_node': 1,\r\n",
      " 'notes': '',\r\n",
      " 'num_workers': 16,\r\n",
      " 'output_distribution': 'logbinomial',\r\n",
      " 'pct_start': 0.7,\r\n",
      " 'pos_enc_lr_factor': 10,\r\n",
      " 'prefetch': False,\r\n",
      " 'pretrained_resource': '',\r\n",
      " 'print_losses': False,\r\n",
      " 'project': 'MonoDepth3-nyu',\r\n",
      " 'random_crop': False,\r\n",
      " 'random_translate': False,\r\n",
      " 'rank': 0,\r\n",
      " 'root': '.',\r\n",
      " 'same_lr': False,\r\n",
      " 'save_dir': '/root/shortcuts/monodepth3_checkpoints',\r\n",
      " 'shared_dict': None,\r\n",
      " 'tags': '',\r\n",
      " 'three_phase': False,\r\n",
      " 'train_midas': True,\r\n",
      " 'trainer': 'zoedepth',\r\n",
      " 'translate_prob': 0.2,\r\n",
      " 'uid': None,\r\n",
      " 'use_amp': False,\r\n",
      " 'use_pretrained_midas': True,\r\n",
      " 'use_shared_dict': False,\r\n",
      " 'validate_every': 0.25,\r\n",
      " 'version_name': 'v1',\r\n",
      " 'w_domain': 0.2,\r\n",
      " 'w_grad': 0,\r\n",
      " 'w_reg': 0,\r\n",
      " 'w_si': 1,\r\n",
      " 'wd': 0.01,\r\n",
      " 'workers': 16,\r\n",
      " 'world_size': 1}\r\n",
      "img_size [384, 512]\r\n",
      "/opt/conda/lib/python3.10/site-packages/torch/hub.py:267: UserWarning: You are about to download and run code from an untrusted repository. In a future release, this won't be allowed. To add the repository to your trusted list, change the command to {calling_fn}(..., trust_repo=False) and a command prompt will appear asking for an explicit confirmation of trust, or load(..., trust_repo=True), which will assume that the prompt is to be answered with 'yes'. You can also use load(..., trust_repo='check') which will only prompt for confirmation if the repo is not already trusted. This will eventually be the default behaviour\r\n",
      "  warnings.warn(\r\n",
      "Downloading: \"https://github.com/intel-isl/MiDaS/zipball/master\" to /root/.cache/torch/hub/master.zip\r\n",
      "/opt/conda/lib/python3.10/site-packages/torch/functional.py:504: UserWarning: torch.meshgrid: in an upcoming release, it will be required to pass the indexing argument. (Triggered internally at ../aten/src/ATen/native/TensorShape.cpp:3190.)\r\n",
      "  return _VF.meshgrid(tensors, **kwargs)  # type: ignore[attr-defined]\r\n",
      "Downloading: \"https://github.com/isl-org/MiDaS/releases/download/v3_1/dpt_beit_large_384.pt\" to /root/.cache/torch/hub/checkpoints/dpt_beit_large_384.pt\r\n",
      "100%|███████████████████████████████████████| 1.34G/1.34G [00:04<00:00, 295MB/s]\r\n",
      "Params passed to Resize transform:\r\n",
      "\twidth:  512\r\n",
      "\theight:  384\r\n",
      "\tresize_target:  True\r\n",
      "\tkeep_aspect_ratio:  False\r\n",
      "\tensure_multiple_of:  32\r\n",
      "\tresize_method:  minimal\r\n",
      "Device 0 Rank 0 batch size 2 Workers 16\r\n",
      "Total parameters : 344.82M\r\n",
      "/opt/conda/lib/python3.10/site-packages/torch/utils/data/dataloader.py:554: UserWarning: This DataLoader will create 16 worker processes in total. Our suggested max number of worker in current system is 4, which is smaller than what this DataLoader is going to create. Please be aware that excessive worker creation might get DataLoader running slow or even freeze, lower the worker number to avoid potential slowness/freeze if necessary.\r\n",
      "  warnings.warn(_create_warning_msg(\r\n",
      "Using diff LR\r\n",
      "Training ZoeDepth\r\n",
      "\u001b[34m\u001b[1mwandb\u001b[0m: Currently logged in as: \u001b[33mbuitiendungt5nhvt\u001b[0m. Use \u001b[1m`wandb login --relogin`\u001b[0m to force relogin\r\n",
      "\u001b[34m\u001b[1mwandb\u001b[0m: wandb version 0.16.6 is available!  To upgrade, please run:\r\n",
      "\u001b[34m\u001b[1mwandb\u001b[0m:  $ pip install wandb --upgrade\r\n",
      "\u001b[34m\u001b[1mwandb\u001b[0m: Tracking run with wandb version 0.13.9\r\n",
      "\u001b[34m\u001b[1mwandb\u001b[0m: Run data is saved locally in \u001b[35m\u001b[1m./wandb/run-20240502_070349-dy001h40\u001b[0m\r\n",
      "\u001b[34m\u001b[1mwandb\u001b[0m: Run \u001b[1m`wandb offline`\u001b[0m to turn off syncing.\r\n",
      "\u001b[34m\u001b[1mwandb\u001b[0m: Syncing run \u001b[33mZoeDepthv1_02-May_07-03-7f133694bf7e\u001b[0m\r\n",
      "\u001b[34m\u001b[1mwandb\u001b[0m: ⭐️ View project at \u001b[34m\u001b[4mhttps://wandb.ai/buitiendungt5nhvt/MonoDepth3-nyu\u001b[0m\r\n",
      "\u001b[34m\u001b[1mwandb\u001b[0m: 🚀 View run at \u001b[34m\u001b[4mhttps://wandb.ai/buitiendungt5nhvt/MonoDepth3-nyu/runs/dy001h40\u001b[0m\r\n",
      "/opt/conda/lib/python3.10/site-packages/torch/utils/data/dataloader.py:554: UserWarning: This DataLoader will create 16 worker processes in total. Our suggested max number of worker in current system is 4, which is smaller than what this DataLoader is going to create. Please be aware that excessive worker creation might get DataLoader running slow or even freeze, lower the worker number to avoid potential slowness/freeze if necessary.\r\n",
      "  warnings.warn(_create_warning_msg(\r\n",
      "Epoch: 1/5. Loop: Train:   0%|                        | 0/12116 [00:00<?, ?it/s]/opt/conda/lib/python3.10/site-packages/torch/autograd/__init__.py:197: UserWarning: Grad strides do not match bucket view strides. This may indicate grad was not created according to the gradient layout contract, or that the param's strides changed since DDP was constructed.  This is not an error, but may impair performance.\r\n",
      "grad.sizes() = [1, 128, 1, 1], strides() = [128, 1, 128, 128]\r\n",
      "bucket_view.sizes() = [1, 128, 1, 1], strides() = [128, 1, 1, 1] (Triggered internally at ../torch/csrc/distributed/c10d/reducer.cpp:325.)\r\n",
      "  Variable._execution_engine.run_backward(  # Calls into the C++ engine to run the backward pass\r\n",
      "Epoch: 1/5. Loop: Train:  25%|██▏      | 3028/12116 [1:00:38<3:00:07,  1.19s/it]\r\n",
      "Epoch: 1/5. Loop: Validation:   0%|                     | 0/654 [00:01<?, ?it/s]\r\n",
      "Epoch: 1/5. Loop: Train:  25%|██▏      | 3028/12116 [1:00:43<3:02:15,  1.20s/it]\r\n",
      "\u001b[34m\u001b[1mwandb\u001b[0m: Waiting for W&B process to finish... \u001b[32m(success).\u001b[0m\r\n",
      "\u001b[34m\u001b[1mwandb\u001b[0m: \r\n",
      "\u001b[34m\u001b[1mwandb\u001b[0m: Run history:\r\n",
      "\u001b[34m\u001b[1mwandb\u001b[0m:       Epoch ▁\r\n",
      "\u001b[34m\u001b[1mwandb\u001b[0m: Train/SILog █▂▂▁▂▁▁▂▁▁▂▂▁▁▁▁▂▂▁▁▁▁▁▁▁▁▁▁▁▁▁▁▁▁▁▁▁▁▁▁\r\n",
      "\u001b[34m\u001b[1mwandb\u001b[0m: \r\n",
      "\u001b[34m\u001b[1mwandb\u001b[0m: Run summary:\r\n",
      "\u001b[34m\u001b[1mwandb\u001b[0m:       Epoch 0\r\n",
      "\u001b[34m\u001b[1mwandb\u001b[0m: Train/SILog 0.98831\r\n",
      "\u001b[34m\u001b[1mwandb\u001b[0m: \r\n",
      "\u001b[34m\u001b[1mwandb\u001b[0m: 🚀 View run \u001b[33mZoeDepthv1_02-May_07-03-7f133694bf7e\u001b[0m at: \u001b[34m\u001b[4mhttps://wandb.ai/buitiendungt5nhvt/MonoDepth3-nyu/runs/dy001h40\u001b[0m\r\n",
      "\u001b[34m\u001b[1mwandb\u001b[0m: Synced 6 W&B file(s), 9 media file(s), 0 artifact file(s) and 0 other file(s)\r\n",
      "\u001b[34m\u001b[1mwandb\u001b[0m: Find logs at: \u001b[35m\u001b[1m./wandb/run-20240502_070349-dy001h40/logs\u001b[0m\r\n",
      "Traceback (most recent call last):\r\n",
      "  File \"/kaggle/working/ZoeDepth/train_mono.py\", line 169, in <module>\r\n",
      "    mp.spawn(main_worker, nprocs=ngpus_per_node,\r\n",
      "  File \"/opt/conda/lib/python3.10/site-packages/torch/multiprocessing/spawn.py\", line 240, in spawn\r\n",
      "    return start_processes(fn, args, nprocs, join, daemon, start_method='spawn')\r\n",
      "  File \"/opt/conda/lib/python3.10/site-packages/torch/multiprocessing/spawn.py\", line 198, in start_processes\r\n",
      "    while not context.join():\r\n",
      "  File \"/opt/conda/lib/python3.10/site-packages/torch/multiprocessing/spawn.py\", line 160, in join\r\n",
      "    raise ProcessRaisedException(msg, error_index, failed_process.pid)\r\n",
      "torch.multiprocessing.spawn.ProcessRaisedException: \r\n",
      "\r\n",
      "-- Process 0 terminated with the following error:\r\n",
      "Traceback (most recent call last):\r\n",
      "  File \"/opt/conda/lib/python3.10/site-packages/torch/multiprocessing/spawn.py\", line 69, in _wrap\r\n",
      "    fn(i, *args)\r\n",
      "  File \"/kaggle/working/ZoeDepth/train_mono.py\", line 104, in main_worker\r\n",
      "    trainer.train()\r\n",
      "  File \"/kaggle/working/ZoeDepth/zoedepth/trainers/base_trainer.py\", line 214, in train\r\n",
      "    metrics, test_losses = self.validate()\r\n",
      "  File \"/kaggle/working/ZoeDepth/zoedepth/trainers/base_trainer.py\", line 263, in validate\r\n",
      "    for i, batch in tqdm(enumerate(self.test_loader), desc=f\"Epoch: {self.epoch + 1}/{self.config.epochs}. Loop: Validation\", total=len(self.test_loader), disable=not is_rank_zero(self.config)):\r\n",
      "  File \"/opt/conda/lib/python3.10/site-packages/tqdm/std.py\", line 1195, in __iter__\r\n",
      "    for obj in iterable:\r\n",
      "  File \"/opt/conda/lib/python3.10/site-packages/torch/utils/data/dataloader.py\", line 628, in __next__\r\n",
      "    data = self._next_data()\r\n",
      "  File \"/opt/conda/lib/python3.10/site-packages/torch/utils/data/dataloader.py\", line 1333, in _next_data\r\n",
      "    return self._process_data(data)\r\n",
      "  File \"/opt/conda/lib/python3.10/site-packages/torch/utils/data/dataloader.py\", line 1359, in _process_data\r\n",
      "    data.reraise()\r\n",
      "  File \"/opt/conda/lib/python3.10/site-packages/torch/_utils.py\", line 543, in reraise\r\n",
      "    raise exception\r\n",
      "FileNotFoundError: Caught FileNotFoundError in DataLoader worker process 0.\r\n",
      "Original Traceback (most recent call last):\r\n",
      "  File \"/opt/conda/lib/python3.10/site-packages/torch/utils/data/_utils/worker.py\", line 302, in _worker_loop\r\n",
      "    data = fetcher.fetch(index)\r\n",
      "  File \"/opt/conda/lib/python3.10/site-packages/torch/utils/data/_utils/fetch.py\", line 58, in fetch\r\n",
      "    data = [self.dataset[idx] for idx in possibly_batched_index]\r\n",
      "  File \"/opt/conda/lib/python3.10/site-packages/torch/utils/data/_utils/fetch.py\", line 58, in <listcomp>\r\n",
      "    data = [self.dataset[idx] for idx in possibly_batched_index]\r\n",
      "  File \"/kaggle/working/ZoeDepth/zoedepth/data/data_mono.py\", line 380, in __getitem__\r\n",
      "    image = np.asarray(self.reader.open(image_path),\r\n",
      "  File \"/kaggle/working/ZoeDepth/zoedepth/data/data_mono.py\", line 267, in open\r\n",
      "    return Image.open(fpath)\r\n",
      "  File \"/opt/conda/lib/python3.10/site-packages/PIL/Image.py\", line 3236, in open\r\n",
      "    fp = builtins.open(filename, \"rb\")\r\n",
      "FileNotFoundError: [Errno 2] No such file or directory: '/root/./nyu2_test/bathroom/rgb_00045.jpg'\r\n",
      "\r\n",
      "\r\n"
     ]
    }
   ],
   "source": [
    "!wandb login d862f89f04220cc74b5d86ad3add94ca5102ddc6\n",
    "!python /kaggle/working/ZoeDepth/train_mono.py -m zoedepth --pretrained_resource=\"\""
   ]
  }
 ],
 "metadata": {
  "kaggle": {
   "accelerator": "gpu",
   "dataSources": [
    {
     "datasetId": 1198025,
     "sourceId": 2002504,
     "sourceType": "datasetVersion"
    },
    {
     "datasetId": 4896795,
     "sourceId": 8252435,
     "sourceType": "datasetVersion"
    },
    {
     "datasetId": 4922243,
     "sourceId": 8287178,
     "sourceType": "datasetVersion"
    },
    {
     "datasetId": 4922278,
     "sourceId": 8287235,
     "sourceType": "datasetVersion"
    }
   ],
   "dockerImageVersionId": 30699,
   "isGpuEnabled": true,
   "isInternetEnabled": true,
   "language": "python",
   "sourceType": "notebook"
  },
  "kernelspec": {
   "display_name": "Python 3",
   "language": "python",
   "name": "python3"
  },
  "language_info": {
   "codemirror_mode": {
    "name": "ipython",
    "version": 3
   },
   "file_extension": ".py",
   "mimetype": "text/x-python",
   "name": "python",
   "nbconvert_exporter": "python",
   "pygments_lexer": "ipython3",
   "version": "3.10.13"
  },
  "papermill": {
   "default_parameters": {},
   "duration": 4196.496183,
   "end_time": "2024-05-02T08:05:42.205584",
   "environment_variables": {},
   "exception": null,
   "input_path": "__notebook__.ipynb",
   "output_path": "__notebook__.ipynb",
   "parameters": {},
   "start_time": "2024-05-02T06:55:45.709401",
   "version": "2.5.0"
  }
 },
 "nbformat": 4,
 "nbformat_minor": 5
}
